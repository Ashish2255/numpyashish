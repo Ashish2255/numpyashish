{
 "cells": [
  {
   "cell_type": "markdown",
   "metadata": {
    "id": "ndFfgi7ewjBm"
   },
   "source": [
    "<h1> ML.AI Week 1 Numpy Practice Notebook</h1>"
   ]
  },
  {
   "cell_type": "markdown",
   "metadata": {
    "id": "FLCCQQWewQMO"
   },
   "source": [
    "## Importing Libraries"
   ]
  },
  {
   "cell_type": "code",
   "execution_count": null,
   "metadata": {
    "id": "ipBx5KY2wWr3"
   },
   "outputs": [],
   "source": [
    "# Import NumPy\n",
    "import numpy as np "
   ]
  },
  {
   "cell_type": "markdown",
   "metadata": {
    "id": "i-M87Y3Ywgza"
   },
   "source": [
    "# Basics"
   ]
  },
  {
   "cell_type": "markdown",
   "metadata": {
    "id": "oO5gw_3awNAC"
   },
   "source": [
    "## Create NumPy Array"
   ]
  },
  {
   "cell_type": "code",
   "execution_count": null,
   "metadata": {
    "colab": {
     "base_uri": "https://localhost:8080/"
    },
    "executionInfo": {
     "elapsed": 13,
     "status": "ok",
     "timestamp": 1682750909286,
     "user": {
      "displayName": "IITG AI",
      "userId": "00784116361381027127"
     },
     "user_tz": -330
    },
    "id": "xCRUIOP8wywQ",
    "outputId": "df4fc839-abcd-417a-8f5b-04d7385f95ec"
   },
   "outputs": [
    {
     "name": "stdout",
     "output_type": "stream",
     "text": [
      "[0 1 2 3 4 5 6 7 8 9]\n"
     ]
    }
   ],
   "source": [
    "my_list = [0,1,2,3,4,5,6,7,8,9]\n",
    "\n",
    "# Create NumPy array from my_list\n",
    "nparr = np.array(my_list)\n",
    "print(nparr)"
   ]
  },
  {
   "cell_type": "code",
   "execution_count": null,
   "metadata": {
    "colab": {
     "base_uri": "https://localhost:8080/"
    },
    "executionInfo": {
     "elapsed": 10,
     "status": "ok",
     "timestamp": 1682750909287,
     "user": {
      "displayName": "IITG AI",
      "userId": "00784116361381027127"
     },
     "user_tz": -330
    },
    "id": "XyVPJpzyw35U",
    "outputId": "438187dd-e1fc-4e67-fb27-e5a11876f05e"
   },
   "outputs": [
    {
     "name": "stdout",
     "output_type": "stream",
     "text": [
      "[0 1 2 3 4 5 6 7 8 9]\n"
     ]
    }
   ],
   "source": [
    "# Create NumPy array with numbers from 0 to 9 using arange method\n",
    "nparr = np.arange(0, 10)\n",
    "print(nparr)"
   ]
  },
  {
   "cell_type": "markdown",
   "metadata": {
    "id": "x4GjKI9sw-rK"
   },
   "source": [
    "## Universal Functions (ufunc)\n",
    "\n",
    "Arithmetic operations we can perform with numpy arrays:\n",
    "\n",
    "https://docs.scipy.org/doc/scipy/reference/tutorial/basic.html\n",
    "\n",
    "https://numpy.org/doc/stable/reference/ufuncs.html"
   ]
  },
  {
   "cell_type": "code",
   "execution_count": null,
   "metadata": {
    "colab": {
     "base_uri": "https://localhost:8080/"
    },
    "executionInfo": {
     "elapsed": 6,
     "status": "ok",
     "timestamp": 1682750974004,
     "user": {
      "displayName": "IITG AI",
      "userId": "00784116361381027127"
     },
     "user_tz": -330
    },
    "id": "RH2l-nsTw_dd",
    "outputId": "b8aa91ba-7e29-4169-d8a9-9eac04452e18"
   },
   "outputs": [
    {
     "name": "stdout",
     "output_type": "stream",
     "text": [
      "[ 0  2  4  6  8 10 12 14 16 18]\n"
     ]
    }
   ],
   "source": [
    "# ADDING ARRAYS\n",
    "nparr_added = nparr + nparr\n",
    "print(nparr_added)"
   ]
  },
  {
   "cell_type": "code",
   "execution_count": null,
   "metadata": {
    "colab": {
     "base_uri": "https://localhost:8080/"
    },
    "executionInfo": {
     "elapsed": 3,
     "status": "ok",
     "timestamp": 1682750975560,
     "user": {
      "displayName": "IITG AI",
      "userId": "00784116361381027127"
     },
     "user_tz": -330
    },
    "id": "6M2qhDDOxCKR",
    "outputId": "11b77989-a175-4d74-abc6-94fda4678540"
   },
   "outputs": [
    {
     "name": "stdout",
     "output_type": "stream",
     "text": [
      "[0 0 0 0 0 0 0 0 0 0]\n"
     ]
    }
   ],
   "source": [
    "# SUBTRACTING ARRAYS\n",
    "nparr_sub= nparr - nparr\n",
    "print(nparr_sub)"
   ]
  },
  {
   "cell_type": "code",
   "execution_count": null,
   "metadata": {
    "colab": {
     "base_uri": "https://localhost:8080/"
    },
    "executionInfo": {
     "elapsed": 4,
     "status": "ok",
     "timestamp": 1682750981126,
     "user": {
      "displayName": "IITG AI",
      "userId": "00784116361381027127"
     },
     "user_tz": -330
    },
    "id": "6Q7ui5l5xFFd",
    "outputId": "bbc42a0b-38ab-4fc0-b9a9-17f938427c55"
   },
   "outputs": [
    {
     "name": "stdout",
     "output_type": "stream",
     "text": [
      "[ 0  1  4  9 16 25 36 49 64 81]\n",
      "[nan  1.  1.  1.  1.  1.  1.  1.  1.  1.]\n"
     ]
    },
    {
     "name": "stderr",
     "output_type": "stream",
     "text": [
      "<ipython-input-9-40008f680545>:5: RuntimeWarning: invalid value encountered in true_divide\n",
      "  nparr_div = nparr / nparr\n"
     ]
    }
   ],
   "source": [
    "# MULTIPLICATING OR DIVISION ARRAYS\n",
    "nparr_mult = nparr * nparr \n",
    "print(nparr_mult)\n",
    "# Note: division zero by zero yields no error, but nan (absence of an object, equal to null)\n",
    "nparr_div = nparr / nparr\n",
    "print(nparr_div)"
   ]
  },
  {
   "cell_type": "code",
   "execution_count": 1,
   "metadata": {
    "id": "8y8KOYJgxHfw"
   },
   "outputs": [
    {
     "ename": "NameError",
     "evalue": "name 'nparr' is not defined",
     "output_type": "error",
     "traceback": [
      "\u001b[1;31m---------------------------------------------------------------------------\u001b[0m",
      "\u001b[1;31mNameError\u001b[0m                                 Traceback (most recent call last)",
      "Cell \u001b[1;32mIn[1], line 2\u001b[0m\n\u001b[0;32m      1\u001b[0m \u001b[38;5;66;03m# MULTIPLY BY A SCALARS\u001b[39;00m\n\u001b[1;32m----> 2\u001b[0m nparr_esc \u001b[38;5;241m=\u001b[39m \u001b[43mnparr\u001b[49m \u001b[38;5;241m*\u001b[39m \u001b[38;5;241m10\u001b[39m\n\u001b[0;32m      3\u001b[0m \u001b[38;5;28mprint\u001b[39m(nparr_esc)\n",
      "\u001b[1;31mNameError\u001b[0m: name 'nparr' is not defined"
     ]
    }
   ],
   "source": [
    "# MULTIPLY BY A SCALARS\n",
    "nparr_esc = nparr * 10\n",
    "print(nparr_esc)"
   ]
  },
  {
   "cell_type": "code",
   "execution_count": null,
   "metadata": {
    "colab": {
     "base_uri": "https://localhost:8080/",
     "height": 85
    },
    "id": "eFU9MjmsxOtS",
    "outputId": "16035967-661a-4315-e519-9d5300117656"
   },
   "outputs": [
    {
     "name": "stdout",
     "output_type": "stream",
     "text": [
      "[       inf 1.         0.5        0.33333333 0.25       0.2\n",
      " 0.16666667 0.14285714 0.125      0.11111111 0.1       ]\n"
     ]
    },
    {
     "name": "stderr",
     "output_type": "stream",
     "text": [
      "/usr/local/lib/python3.6/dist-packages/ipykernel_launcher.py:3: RuntimeWarning: divide by zero encountered in true_divide\n",
      "  This is separate from the ipykernel package so we can avoid doing imports until\n"
     ]
    }
   ],
   "source": [
    "# ONE DIVIDED BY ZERO \n",
    "# inf signifies infinity for one divided by zero at the very first element  \n",
    "nparr_one_div = 1/nparr\n",
    "print(nparr_one_div)"
   ]
  },
  {
   "cell_type": "code",
   "execution_count": null,
   "metadata": {
    "colab": {
     "base_uri": "https://localhost:8080/",
     "height": 51
    },
    "id": "q01cuOPgxRGY",
    "outputId": "e52a5cb3-922c-4fa8-abbf-c892ad7636ac"
   },
   "outputs": [
    {
     "name": "stdout",
     "output_type": "stream",
     "text": [
      "[  0   1   4   9  16  25  36  49  64  81 100]\n",
      "[  0   1   4   9  16  25  36  49  64  81 100]\n"
     ]
    }
   ],
   "source": [
    "# EXPONENT - ARRAYS - Squaring everything - Two options\n",
    "np_arr_exp1 = nparr ** 2\n",
    "print(np_arr_exp1) \n",
    "np_arr_exp2 = np.square(nparr)\n",
    "print(np_arr_exp2)"
   ]
  },
  {
   "cell_type": "code",
   "execution_count": null,
   "metadata": {
    "colab": {
     "base_uri": "https://localhost:8080/",
     "height": 51
    },
    "id": "G6PuQ1CgxT4B",
    "outputId": "67bc753b-6938-4c95-d34b-b5a21133fbf9"
   },
   "outputs": [
    {
     "name": "stdout",
     "output_type": "stream",
     "text": [
      "[0.         1.         1.41421356 1.73205081 2.         2.23606798\n",
      " 2.44948974 2.64575131 2.82842712 3.         3.16227766]\n"
     ]
    }
   ],
   "source": [
    "# SQUARE ROOT\n",
    "nparr_sr = np.sqrt(nparr)\n",
    "print(nparr_sr)"
   ]
  },
  {
   "cell_type": "code",
   "execution_count": null,
   "metadata": {
    "colab": {
     "base_uri": "https://localhost:8080/",
     "height": 68
    },
    "id": "R_G7nQ9dxX3d",
    "outputId": "04cd11eb-50de-4a82-c7ff-191fbac5d86d"
   },
   "outputs": [
    {
     "name": "stdout",
     "output_type": "stream",
     "text": [
      "[1.00000000e+00 2.71828183e+00 7.38905610e+00 2.00855369e+01\n",
      " 5.45981500e+01 1.48413159e+02 4.03428793e+02 1.09663316e+03\n",
      " 2.98095799e+03 8.10308393e+03 2.20264658e+04]\n"
     ]
    }
   ],
   "source": [
    "# EXPONENTIAL WITH ARRAYS\n",
    "np_arr_exp3 = np.exp(nparr)\n",
    "print(np_arr_exp3)"
   ]
  },
  {
   "cell_type": "code",
   "execution_count": null,
   "metadata": {
    "colab": {
     "base_uri": "https://localhost:8080/",
     "height": 51
    },
    "id": "QD-uBWKPxZv4",
    "outputId": "cb8b53bb-ac51-4a5f-9f8b-8564e9ccea61"
   },
   "outputs": [
    {
     "name": "stdout",
     "output_type": "stream",
     "text": [
      "10\n",
      "0\n"
     ]
    }
   ],
   "source": [
    "# MAX & MIN\n",
    "nparr_max = np.max(nparr)\n",
    "print(nparr_max)\n",
    "nparr_min = np.min(nparr)\n",
    "print(nparr_min)"
   ]
  },
  {
   "cell_type": "code",
   "execution_count": null,
   "metadata": {
    "colab": {
     "base_uri": "https://localhost:8080/",
     "height": 51
    },
    "id": "TRsuqrGnxb7r",
    "outputId": "2e7c28ab-e8b0-4094-dce1-7264fe99f28a"
   },
   "outputs": [
    {
     "name": "stdout",
     "output_type": "stream",
     "text": [
      "[ 0.          0.84147098  0.90929743  0.14112001 -0.7568025  -0.95892427\n",
      " -0.2794155   0.6569866   0.98935825  0.41211849 -0.54402111]\n"
     ]
    }
   ],
   "source": [
    "# TRIGONOMETRIC FUNCTIONS - Passing every element into sine function\n",
    "nparr_sin = np.sin(nparr)\n",
    "print(nparr_sin)"
   ]
  },
  {
   "cell_type": "code",
   "execution_count": null,
   "metadata": {
    "colab": {
     "base_uri": "https://localhost:8080/",
     "height": 85
    },
    "id": "lUE7rfEfxeYH",
    "outputId": "7c965edb-ed25-4b76-ed03-05084945ce72"
   },
   "outputs": [
    {
     "name": "stdout",
     "output_type": "stream",
     "text": [
      "[      -inf 0.         0.69314718 1.09861229 1.38629436 1.60943791\n",
      " 1.79175947 1.94591015 2.07944154 2.19722458 2.30258509]\n"
     ]
    },
    {
     "name": "stderr",
     "output_type": "stream",
     "text": [
      "/usr/local/lib/python3.6/dist-packages/ipykernel_launcher.py:2: RuntimeWarning: divide by zero encountered in log\n",
      "  \n"
     ]
    }
   ],
   "source": [
    "# LOGARITHMIC - Note:  the very first one is minus infinity\n",
    "nparr_log = np.log(nparr)\n",
    "print(nparr_log)"
   ]
  },
  {
   "cell_type": "markdown",
   "metadata": {
    "id": "b3t7n_rExqYz"
   },
   "source": [
    "# NUMPY PRACTICE EXERCISES"
   ]
  },
  {
   "cell_type": "markdown",
   "metadata": {
    "id": "kM4gRRsvx25_"
   },
   "source": [
    "## 1 . Creates an array of the integers from 10 to 50"
   ]
  },
  {
   "cell_type": "code",
   "execution_count": 4,
   "metadata": {
    "colab": {
     "base_uri": "https://localhost:8080/",
     "height": 51
    },
    "id": "0Svcsjnrx4xR",
    "outputId": "aa7734f4-cf94-4411-f9b1-fd79e0376d76"
   },
   "outputs": [
    {
     "data": {
      "text/plain": [
       "array([10, 11, 12, 13, 14, 15, 16, 17, 18, 19, 20, 21, 22, 23, 24, 25, 26,\n",
       "       27, 28, 29, 30, 31, 32, 33, 34, 35, 36, 37, 38, 39, 40, 41, 42, 43,\n",
       "       44, 45, 46, 47, 48, 49, 50])"
      ]
     },
     "execution_count": 4,
     "metadata": {},
     "output_type": "execute_result"
    }
   ],
   "source": [
    "\n",
    "np.arange(10, 51, 1)\n",
    "\n"
   ]
  },
  {
   "cell_type": "markdown",
   "metadata": {
    "id": "waLqx2TbyAcb"
   },
   "source": [
    "## 2 . Create an array of the even integers from 10 to 50"
   ]
  },
  {
   "cell_type": "code",
   "execution_count": 5,
   "metadata": {
    "colab": {
     "base_uri": "https://localhost:8080/",
     "height": 34
    },
    "id": "SMc68WdEx67L",
    "outputId": "0651070d-09c3-47e3-b2b2-a4b6ebe1f9c4"
   },
   "outputs": [
    {
     "data": {
      "text/plain": [
       "array([10, 12, 14, 16, 18, 20, 22, 24, 26, 28, 30, 32, 34, 36, 38, 40, 42,\n",
       "       44, 46, 48, 50])"
      ]
     },
     "execution_count": 5,
     "metadata": {},
     "output_type": "execute_result"
    }
   ],
   "source": [
    "np.arange(10, 52, 2)"
   ]
  },
  {
   "cell_type": "markdown",
   "metadata": {
    "id": "aIzm88u1yGpE"
   },
   "source": [
    "\n",
    "\n",
    "## 3. Creates a 3x3 matrix with values ranging from 1 to 9"
   ]
  },
  {
   "cell_type": "code",
   "execution_count": 6,
   "metadata": {
    "colab": {
     "base_uri": "https://localhost:8080/",
     "height": 68
    },
    "id": "EI9KtMn4yId-",
    "outputId": "445a4dba-8ace-4858-a3fb-1cb1538d0002"
   },
   "outputs": [
    {
     "name": "stdout",
     "output_type": "stream",
     "text": [
      "[[1 2 3]\n",
      " [4 5 6]\n",
      " [7 8 9]]\n"
     ]
    }
   ],
   "source": [
    "before=np.arange(1,10,1)\n",
    "after=before.reshape(3,3)\n",
    "\n",
    "print(after)"
   ]
  },
  {
   "cell_type": "markdown",
   "metadata": {
    "id": "eOvyPzP7yNHs"
   },
   "source": [
    "## 4. Use NumPy to generate a random number between 0 and 1"
   ]
  },
  {
   "cell_type": "code",
   "execution_count": 13,
   "metadata": {
    "colab": {
     "base_uri": "https://localhost:8080/",
     "height": 34
    },
    "id": "bEKJCls2yOaC",
    "outputId": "76fc4569-cc4d-4a53-d416-a4a5d358ab81"
   },
   "outputs": [
    {
     "data": {
      "text/plain": [
       "array([0.57315944])"
      ]
     },
     "execution_count": 13,
     "metadata": {},
     "output_type": "execute_result"
    }
   ],
   "source": [
    "np.random.uniform(0,1,1)"
   ]
  },
  {
   "cell_type": "markdown",
   "metadata": {
    "id": "NCxHKGsIybmd"
   },
   "source": [
    "\n",
    "\n",
    "## 5. Use NumPy to generate 25 random numbers sampled from a standard normal distribution"
   ]
  },
  {
   "cell_type": "code",
   "execution_count": 15,
   "metadata": {
    "colab": {
     "base_uri": "https://localhost:8080/",
     "height": 102
    },
    "id": "8uajaz4oyd01",
    "outputId": "2704de44-5679-49fc-a385-38865f55b567"
   },
   "outputs": [
    {
     "data": {
      "text/plain": [
       "array([ 0.95129453, -0.76816484,  0.93860072,  0.06953719,  0.43207794,\n",
       "        0.56644522,  0.36179407,  0.54424292,  0.49806198,  0.77087177,\n",
       "       -1.30393854,  1.07514637, -0.21854534,  0.43145525, -0.45690155,\n",
       "       -1.09765496,  0.16636005,  0.73426182,  0.07585225,  0.44507225,\n",
       "       -1.02184218, -1.85149466,  0.80148783,  0.61607684,  0.44245668])"
      ]
     },
     "execution_count": 15,
     "metadata": {},
     "output_type": "execute_result"
    }
   ],
   "source": [
    "np.random.randn(25)"
   ]
  },
  {
   "cell_type": "markdown",
   "metadata": {
    "id": "RddxbwyayiVs"
   },
   "source": [
    "## 6. Create a matrix of 100 items spaced equally at 0.01 steps ranged fro 0.01 to 1"
   ]
  },
  {
   "cell_type": "code",
   "execution_count": 14,
   "metadata": {
    "colab": {
     "base_uri": "https://localhost:8080/",
     "height": 187
    },
    "id": "FzOdZXwRyjsO",
    "outputId": "41f0c8be-d6e6-4d34-9c0e-ccab81af2031"
   },
   "outputs": [
    {
     "data": {
      "text/plain": [
       "array([[0.01, 0.02, 0.03, 0.04, 0.05, 0.06, 0.07, 0.08, 0.09, 0.1 ],\n",
       "       [0.11, 0.12, 0.13, 0.14, 0.15, 0.16, 0.17, 0.18, 0.19, 0.2 ],\n",
       "       [0.21, 0.22, 0.23, 0.24, 0.25, 0.26, 0.27, 0.28, 0.29, 0.3 ],\n",
       "       [0.31, 0.32, 0.33, 0.34, 0.35, 0.36, 0.37, 0.38, 0.39, 0.4 ],\n",
       "       [0.41, 0.42, 0.43, 0.44, 0.45, 0.46, 0.47, 0.48, 0.49, 0.5 ],\n",
       "       [0.51, 0.52, 0.53, 0.54, 0.55, 0.56, 0.57, 0.58, 0.59, 0.6 ],\n",
       "       [0.61, 0.62, 0.63, 0.64, 0.65, 0.66, 0.67, 0.68, 0.69, 0.7 ],\n",
       "       [0.71, 0.72, 0.73, 0.74, 0.75, 0.76, 0.77, 0.78, 0.79, 0.8 ],\n",
       "       [0.81, 0.82, 0.83, 0.84, 0.85, 0.86, 0.87, 0.88, 0.89, 0.9 ],\n",
       "       [0.91, 0.92, 0.93, 0.94, 0.95, 0.96, 0.97, 0.98, 0.99, 1.  ]])"
      ]
     },
     "execution_count": 14,
     "metadata": {},
     "output_type": "execute_result"
    }
   ],
   "source": [
    "(np.arange(0.01,1.01,0.01)).reshape(10,10)"
   ]
  },
  {
   "cell_type": "code",
   "execution_count": null,
   "metadata": {
    "colab": {
     "base_uri": "https://localhost:8080/",
     "height": 187
    },
    "id": "yJxrHMO0ylZj",
    "outputId": "c2a19581-17c6-43ca-c47c-03598553da5e"
   },
   "outputs": [
    {
     "data": {
      "text/plain": [
       "array([[0.01, 0.02, 0.03, 0.04, 0.05, 0.06, 0.07, 0.08, 0.09, 0.1 ],\n",
       "       [0.11, 0.12, 0.13, 0.14, 0.15, 0.16, 0.17, 0.18, 0.19, 0.2 ],\n",
       "       [0.21, 0.22, 0.23, 0.24, 0.25, 0.26, 0.27, 0.28, 0.29, 0.3 ],\n",
       "       [0.31, 0.32, 0.33, 0.34, 0.35, 0.36, 0.37, 0.38, 0.39, 0.4 ],\n",
       "       [0.41, 0.42, 0.43, 0.44, 0.45, 0.46, 0.47, 0.48, 0.49, 0.5 ],\n",
       "       [0.51, 0.52, 0.53, 0.54, 0.55, 0.56, 0.57, 0.58, 0.59, 0.6 ],\n",
       "       [0.61, 0.62, 0.63, 0.64, 0.65, 0.66, 0.67, 0.68, 0.69, 0.7 ],\n",
       "       [0.71, 0.72, 0.73, 0.74, 0.75, 0.76, 0.77, 0.78, 0.79, 0.8 ],\n",
       "       [0.81, 0.82, 0.83, 0.84, 0.85, 0.86, 0.87, 0.88, 0.89, 0.9 ],\n",
       "       [0.91, 0.92, 0.93, 0.94, 0.95, 0.96, 0.97, 0.98, 0.99, 1.  ]])"
      ]
     },
     "execution_count": 23,
     "metadata": {
      "tags": []
     },
     "output_type": "execute_result"
    }
   ],
   "source": [
    "# Returning the exact same result as above\n"
   ]
  },
  {
   "cell_type": "markdown",
   "metadata": {
    "id": "tQVoOsaAyp1X"
   },
   "source": [
    "## 7. Create an array of 20 linearly spaced points between 0 and 1"
   ]
  },
  {
   "cell_type": "code",
   "execution_count": 16,
   "metadata": {
    "colab": {
     "base_uri": "https://localhost:8080/",
     "height": 85
    },
    "id": "4MtcWJA4yrGl",
    "outputId": "9a9c323f-0b31-4c71-d6c7-20d6978ba8bb"
   },
   "outputs": [
    {
     "data": {
      "text/plain": [
       "array([0.        , 0.05263158, 0.10526316, 0.15789474, 0.21052632,\n",
       "       0.26315789, 0.31578947, 0.36842105, 0.42105263, 0.47368421,\n",
       "       0.52631579, 0.57894737, 0.63157895, 0.68421053, 0.73684211,\n",
       "       0.78947368, 0.84210526, 0.89473684, 0.94736842, 1.        ])"
      ]
     },
     "execution_count": 16,
     "metadata": {},
     "output_type": "execute_result"
    }
   ],
   "source": [
    "np.linspace(0,1,20)"
   ]
  },
  {
   "cell_type": "markdown",
   "metadata": {
    "id": "ROMflFPMyxX8"
   },
   "source": [
    "# INDEXING & SLICING NOTATION in PYTHON\n",
    "\n",
    "## What does indexing mean in Python?\n",
    "An index refers to a position within an ordered list.\n",
    "\n",
    "## And what about Slicing?\n",
    "Slicing in python means taking elements from one given index to another given index. We pass slice instead of an index like this: [[start:end]]. We can also define the step, like this: [[start:end:step]].\n"
   ]
  },
  {
   "cell_type": "markdown",
   "metadata": {
    "id": "GI3tgye0y4Q_"
   },
   "source": [
    "\n",
    "## Two-Dimensional Array: arr_2_d\n",
    "\n",
    "There are 2 general formats for GRABBING ELEMENTS from a 2-d array (matrix):\n",
    "\n",
    "1. DOUBLE BRACKET FORMAT   \n",
    "\n",
    "      mat[row][column]\n",
    "\n",
    "2. SINGLE BRACKET FORMAT   \n",
    "\n",
    "      mat[row,column] \n",
    "      \n",
    "      w/ comma, this is least prone to error!"
   ]
  },
  {
   "cell_type": "markdown",
   "metadata": {
    "id": "uAaaiIVIzGNW"
   },
   "source": [
    "## Indexing & Slicing Notation (mnemonic):\n",
    "\n",
    "[ row : Column ]\n",
    "\n",
    "### Indexing:\n",
    "\n",
    "[ **Grab just the** ] , [ **and just the** ]\n",
    "\n",
    "### Slicing: (bni)\n",
    "\n",
    "[**Grab all from the : up to the** ] , [ **and all from the : up to the** ]\n",
    "\n",
    "[ **but not including (bni)** ]: [ **but not including (bni)**]"
   ]
  },
  {
   "cell_type": "markdown",
   "metadata": {
    "id": "erYYymH9zfFK"
   },
   "source": [
    "PRACTICING EXERCISES:\n",
    "\n",
    "(for Indexing & Slicing in Python & NumPy)"
   ]
  },
  {
   "cell_type": "code",
   "execution_count": 4,
   "metadata": {
    "colab": {
     "base_uri": "https://localhost:8080/",
     "height": 102
    },
    "id": "93KjIoWVysto",
    "outputId": "253183ca-fc43-40f1-df3d-f12721ad1246"
   },
   "outputs": [
    {
     "name": "stdout",
     "output_type": "stream",
     "text": [
      "[[ 1  2  3  4  5]\n",
      " [ 6  7  8  9 10]\n",
      " [11 12 13 14 15]\n",
      " [16 17 18 19 20]\n",
      " [21 22 23 24 25]]\n"
     ]
    }
   ],
   "source": [
    "# Use this 2-Dimensional Array for this exercises \n",
    "import numpy as np\n",
    "arr=(np.arange(1,26,1)).reshape(5,5)\n",
    "print(arr)"
   ]
  },
  {
   "cell_type": "markdown",
   "metadata": {
    "id": "0SIFJUaTztCI"
   },
   "source": [
    "### 8. Grab element 20  of the arr_2_d array"
   ]
  },
  {
   "cell_type": "code",
   "execution_count": 5,
   "metadata": {
    "colab": {
     "base_uri": "https://localhost:8080/",
     "height": 34
    },
    "id": "VGcspB0SztmQ",
    "outputId": "3371e5df-155f-4ec3-c092-18c6c1718208"
   },
   "outputs": [
    {
     "data": {
      "text/plain": [
       "20"
      ]
     },
     "execution_count": 5,
     "metadata": {},
     "output_type": "execute_result"
    }
   ],
   "source": [
    "arr[3,4]\n",
    "# That is to say:\n",
    "# for row: **Grab just the** forth row,\n",
    "#          it rescues just one element in the forth row:), and\n",
    "# for column: **and just the** fifth column.\n",
    "#             It rescues just one element in fifth column, again:)"
   ]
  },
  {
   "cell_type": "markdown",
   "metadata": {
    "id": "mU7f5am2z0jZ"
   },
   "source": [
    "### 9. Grab items 2, 7, 12 of the arr_2_d array"
   ]
  },
  {
   "cell_type": "code",
   "execution_count": 6,
   "metadata": {
    "colab": {
     "base_uri": "https://localhost:8080/",
     "height": 68
    },
    "id": "g3QBOE6vz2uR",
    "outputId": "33eaa086-b68c-446f-a41f-df304c4fda6f"
   },
   "outputs": [
    {
     "data": {
      "text/plain": [
       "array([ 2,  7, 12])"
      ]
     },
     "execution_count": 6,
     "metadata": {},
     "output_type": "execute_result"
    }
   ],
   "source": [
    "arr[0:3,1]\n",
    "# That is to say:\n",
    "#\n",
    "# for row: **Grab all from the** begining,\n",
    "#          **up to the** forth row (but not including),\n",
    "#          it rescues 3 rows in a row,\n",
    "#\n",
    "# for column: **and all from the** second \n",
    "#             **up to the** 3ª Column (bni).\n",
    "#             It rescues just one column, the second one:)"
   ]
  },
  {
   "cell_type": "markdown",
   "metadata": {
    "id": "AtAhD17G0nH9"
   },
   "source": [
    "### 10. Grab the last row of the arr_2_d array"
   ]
  },
  {
   "cell_type": "code",
   "execution_count": 7,
   "metadata": {
    "colab": {
     "base_uri": "https://localhost:8080/",
     "height": 34
    },
    "id": "yHEr1Vthz5Fh",
    "outputId": "f1cdbb60-cf1f-4e17-e3f1-4a0feb042639"
   },
   "outputs": [
    {
     "data": {
      "text/plain": [
       "array([21, 22, 23, 24, 25])"
      ]
     },
     "execution_count": 7,
     "metadata": {},
     "output_type": "execute_result"
    }
   ],
   "source": [
    "arr[-1]\n",
    "# That is to say:\n",
    "#\n",
    "# for row: **Grab just the** fifth row,\n",
    "#          it rescues just the last row:),\n",
    "# \n",
    "# for column: **and all from the** beginning **up to the** end of \n",
    "#             the columns(:). It rescues all the columns:)"
   ]
  },
  {
   "cell_type": "markdown",
   "metadata": {
    "id": "V4QJvxly01mZ"
   },
   "source": [
    "### 11. Get the sum of all the values, column values and row values in arr_2_d array"
   ]
  },
  {
   "cell_type": "code",
   "execution_count": 8,
   "metadata": {
    "colab": {
     "base_uri": "https://localhost:8080/",
     "height": 34
    },
    "id": "r4C7rdUn02Lx",
    "outputId": "d8e2f229-1238-4941-8ec7-0b8367575dc6"
   },
   "outputs": [
    {
     "data": {
      "text/plain": [
       "325"
      ]
     },
     "execution_count": 8,
     "metadata": {},
     "output_type": "execute_result"
    }
   ],
   "source": [
    "# Using NumPy and pass array as parameter\n",
    "\n",
    "# OR\n",
    "# Use the method of the object array itself directly\n",
    "np.sum(arr)"
   ]
  },
  {
   "cell_type": "code",
   "execution_count": null,
   "metadata": {
    "colab": {
     "base_uri": "https://localhost:8080/",
     "height": 34
    },
    "id": "j_UbfWuO038O",
    "outputId": "9ed7e0a4-386c-416b-fe1d-679a45aff456"
   },
   "outputs": [
    {
     "data": {
      "text/plain": [
       "325"
      ]
     },
     "execution_count": 30,
     "metadata": {
      "tags": []
     },
     "output_type": "execute_result"
    }
   ],
   "source": [
    "\n",
    "# axis=0 -> row -> so the result is placed in a row\n",
    "# (then it is a columns' sum)\n",
    "\n",
    "# axis=1 -> columns -> so the result is placed in a column \n",
    "# (then it is a row's sum:)\n",
    "\n",
    "\n",
    "# axis=0 -> row -> so the result is placed in a row\n",
    "# (then it is a columns' sum)\n",
    "\n",
    "# axis=1 -> columns -> so the result is placed in a column \n",
    "# (then it is a row's sum:)"
   ]
  },
  {
   "cell_type": "markdown",
   "metadata": {
    "id": "rfxf2izz1FGw"
   },
   "source": [
    "### 12. Get the standard diviation of the values in arr_2_d array"
   ]
  },
  {
   "cell_type": "code",
   "execution_count": 9,
   "metadata": {
    "colab": {
     "base_uri": "https://localhost:8080/",
     "height": 34
    },
    "id": "om6NxGEH1F8k",
    "outputId": "219f73b9-c352-48d2-82e4-d9de8587b5a8"
   },
   "outputs": [
    {
     "data": {
      "text/plain": [
       "7.211102550927978"
      ]
     },
     "execution_count": 9,
     "metadata": {},
     "output_type": "execute_result"
    }
   ],
   "source": [
    "np.std(arr)"
   ]
  },
  {
   "cell_type": "code",
   "execution_count": 10,
   "metadata": {
    "id": "bnICQsGXYbm7"
   },
   "outputs": [
    {
     "data": {
      "text/plain": [
       "7.211102550927978"
      ]
     },
     "execution_count": 10,
     "metadata": {},
     "output_type": "execute_result"
    }
   ],
   "source": [
    "# Returning the exact same result as above\n",
    "np.std(arr)"
   ]
  },
  {
   "cell_type": "markdown",
   "metadata": {
    "id": "uUFmB7et1ezJ"
   },
   "source": [
    "# CONDITIONAL SELECTION"
   ]
  },
  {
   "cell_type": "markdown",
   "metadata": {
    "id": "-W_rKpYA1kJr"
   },
   "source": [
    "### SUMMARY\n",
    "\n",
    "1. Get an array and perform a comparison operator on it; it will return a boolean array;\n",
    "2. Use that boolean array to index a conditional selection."
   ]
  },
  {
   "cell_type": "code",
   "execution_count": null,
   "metadata": {
    "colab": {
     "base_uri": "https://localhost:8080/",
     "height": 34
    },
    "id": "MvAI1M7F1kpU",
    "outputId": "79376cf4-777d-491e-fe60-fb3127dd27b6"
   },
   "outputs": [
    {
     "name": "stdout",
     "output_type": "stream",
     "text": [
      "[ 1  2  3  4  5  6  7  8  9 10]\n"
     ]
    }
   ],
   "source": [
    "# Given that Array to test Conditional Selection\n",
    "arr = np.arange(1,11)\n",
    "print(arr)"
   ]
  },
  {
   "cell_type": "code",
   "execution_count": null,
   "metadata": {
    "colab": {
     "base_uri": "https://localhost:8080/",
     "height": 34
    },
    "id": "qmfpQJae1oLy",
    "outputId": "9d7a673b-612c-4603-d8bb-0fbf4cbd0b2a"
   },
   "outputs": [
    {
     "name": "stdout",
     "output_type": "stream",
     "text": [
      "[ True  True  True  True False False False False False False]\n"
     ]
    }
   ],
   "source": [
    "# Perform the comparison and grab the result (booleans array)\n",
    "bool_arr = arr < 5\n",
    "print(bool_arr)"
   ]
  },
  {
   "cell_type": "code",
   "execution_count": null,
   "metadata": {
    "colab": {
     "base_uri": "https://localhost:8080/",
     "height": 34
    },
    "id": "orkXjA9z1qoh",
    "outputId": "e3d6bace-bf15-4c0d-cae3-8afc5d019218"
   },
   "outputs": [
    {
     "name": "stdout",
     "output_type": "stream",
     "text": [
      "[1 2 3 4]\n"
     ]
    }
   ],
   "source": [
    "# I can now use that booleans array to actualy index or **conditionally select** elements\n",
    "#  from the original array (arr); then only return instances where boolean array is true.\n",
    "result_arr = arr[bool_arr] \n",
    "print(result_arr)"
   ]
  },
  {
   "cell_type": "markdown",
   "metadata": {
    "id": "ZgZP1kSz1vOa"
   },
   "source": [
    "### In Just One line of code. Just Awesome!"
   ]
  },
  {
   "cell_type": "code",
   "execution_count": null,
   "metadata": {
    "colab": {
     "base_uri": "https://localhost:8080/",
     "height": 34
    },
    "id": "-4Qg1Wbq1vlC",
    "outputId": "dc681319-b210-4d0a-999a-abcbae735470"
   },
   "outputs": [
    {
     "name": "stdout",
     "output_type": "stream",
     "text": [
      "[1 2 3 4]\n"
     ]
    }
   ],
   "source": [
    "# Returning the same result as above\n",
    "result_arr = arr[arr<5]\n",
    "print(result_arr)"
   ]
  },
  {
   "cell_type": "markdown",
   "metadata": {
    "id": "cTfCIaC5177t"
   },
   "source": [
    "### Notes:\n",
    "\n",
    "Getting an array and using a comparison operator on it will actually return a boolean array (meaning an array of all boolean values).\n",
    "\n",
    "Then we can use that boolean array to actually index or conditionally select elements from the original array where this happened to true.\n",
    "\n",
    "So only return instances where that boolean array is true, and more commonly, instead of sorting of splitting this up into 2 steps, we would actually do this all in one step (see code above).\n",
    "\n",
    "We would say, an array, and in brackets, instead of the array, we would pass in the conditional statement (arr[arr<5]), and that would return the same answer as the 2-step method and this is the sort of syntax notation we're going to be using all the time as far as conditional selection is an issue.\n",
    "\n",
    "It's kind of weird to pass the variable itself as a parameter to the indexer brackets, but that's how it works!\n",
    "\n",
    "THIS IS THE SORT OF SYNTAX NOTATION YOU WOULD GET USED SPECIALLY WHEN WE MOVE ON TO PANDAS!"
   ]
  },
  {
   "cell_type": "markdown",
   "metadata": {
    "id": "9M5JG6S1ZL0e"
   },
   "source": [
    "## Advanced Questions"
   ]
  },
  {
   "cell_type": "markdown",
   "metadata": {
    "id": "11amIBueZOZY"
   },
   "source": [
    "### 13. Declare a 8x8 matrix and fill it with a checkerboard (or chess) pattern."
   ]
  },
  {
   "cell_type": "code",
   "execution_count": null,
   "metadata": {
    "id": "LjR0lnK_ZNXr"
   },
   "outputs": [],
   "source": []
  },
  {
   "cell_type": "markdown",
   "metadata": {
    "id": "tmNGX1c6ZRxx"
   },
   "source": [
    "### 14. Declare a 10x10 array with random values and find the minimum and maximum values."
   ]
  },
  {
   "cell_type": "code",
   "execution_count": 13,
   "metadata": {
    "id": "Fx9enDeLZXYl"
   },
   "outputs": [
    {
     "name": "stdout",
     "output_type": "stream",
     "text": [
      "[[0.82568172 0.58277069 0.5259269  0.12544017 0.17418769 0.34753132\n",
      "  0.85530195 0.6571784  0.45868827 0.44201919]\n",
      " [0.76233343 0.33111909 0.14452027 0.05808224 0.05837695 0.02894087\n",
      "  0.12457645 0.58190555 0.44589485 0.78377903]\n",
      " [0.61887814 0.46777447 0.29225616 0.49922203 0.86416421 0.6594362\n",
      "  0.75589001 0.55186125 0.14220373 0.90768474]\n",
      " [0.0731806  0.92515031 0.28892585 0.72941745 0.75906237 0.2862928\n",
      "  0.28031892 0.58738109 0.64147495 0.56963279]\n",
      " [0.4489201  0.71197455 0.725039   0.22572004 0.03612312 0.72272108\n",
      "  0.90808093 0.32822971 0.02967257 0.29832259]\n",
      " [0.76886751 0.58319697 0.41719441 0.7827957  0.20681239 0.00144828\n",
      "  0.65303411 0.03077808 0.98781466 0.83547805]\n",
      " [0.84566962 0.44370997 0.8446364  0.82225489 0.56865803 0.81838441\n",
      "  0.55075524 0.10473905 0.67457949 0.76218096]\n",
      " [0.01839667 0.85720302 0.89289489 0.9202566  0.65752009 0.00398578\n",
      "  0.28287624 0.53398943 0.38397939 0.54529226]\n",
      " [0.05921527 0.99171908 0.14498503 0.26252799 0.33193498 0.98235736\n",
      "  0.80884238 0.91139595 0.93698413 0.09771585]\n",
      " [0.88628562 0.20346743 0.73109445 0.36867545 0.84227682 0.811439\n",
      "  0.83812022 0.15545293 0.90189929 0.19389291]]\n",
      "0.9917190848323578\n",
      "0.0014482769461569012\n"
     ]
    }
   ],
   "source": [
    "a=np.random.rand(10,10)\n",
    "print(a)\n",
    "print(np.max(a))\n",
    "print(np.min(a))"
   ]
  },
  {
   "cell_type": "markdown",
   "metadata": {
    "id": "4kHMCyp0ZZAJ"
   },
   "source": [
    "### 15. Create a random 10x2 matrix. Considering each pair represents an (x,y) co-ordinate in 2-D, obtain a matrix which contains (r,theta) in polar co-ordinate system.\n",
    "\n"
   ]
  },
  {
   "cell_type": "code",
   "execution_count": 22,
   "metadata": {
    "id": "KjuZwDO_ZaEU"
   },
   "outputs": [
    {
     "name": "stdout",
     "output_type": "stream",
     "text": [
      "[[0.71701938 0.6703318 ]\n",
      " [0.58112323 0.03530524]\n",
      " [0.4848048  0.38746048]\n",
      " [0.22287039 0.54136657]\n",
      " [0.02606787 0.28312265]\n",
      " [0.84414249 0.64018742]\n",
      " [0.01826154 0.6985781 ]\n",
      " [0.44665195 0.93498285]\n",
      " [0.31472786 0.50839919]\n",
      " [0.93975252 0.78881371]]\n",
      "[1.17785872 0.78512959 0.93395143 0.87420648 0.55604903 1.21833079\n",
      " 0.84666383 1.17542962 0.9072635  1.31474949]\n"
     ]
    },
    {
     "ename": "AttributeError",
     "evalue": "module 'numpy' has no attribute 'div'",
     "output_type": "error",
     "traceback": [
      "\u001b[1;31m---------------------------------------------------------------------------\u001b[0m",
      "\u001b[1;31mAttributeError\u001b[0m                            Traceback (most recent call last)",
      "Cell \u001b[1;32mIn[22], line 5\u001b[0m\n\u001b[0;32m      3\u001b[0m b\u001b[38;5;241m=\u001b[39mnp\u001b[38;5;241m.\u001b[39msqrt(np\u001b[38;5;241m.\u001b[39msum(a,axis\u001b[38;5;241m=\u001b[39m\u001b[38;5;241m1\u001b[39m))\n\u001b[0;32m      4\u001b[0m \u001b[38;5;28mprint\u001b[39m(b)\n\u001b[1;32m----> 5\u001b[0m c\u001b[38;5;241m=\u001b[39m\u001b[43mnp\u001b[49m\u001b[38;5;241;43m.\u001b[39;49m\u001b[43mdiv\u001b[49m(a,axis\u001b[38;5;241m=\u001b[39m\u001b[38;5;241m1\u001b[39m)\n\u001b[0;32m      6\u001b[0m d\u001b[38;5;241m=\u001b[39mnp\u001b[38;5;241m.\u001b[39marctan(c\u001b[38;5;241m*\u001b[39m\u001b[38;5;241m*\u001b[39m\u001b[38;5;241m-\u001b[39m\u001b[38;5;241m1\u001b[39m)\n\u001b[0;32m      7\u001b[0m \u001b[38;5;28mprint\u001b[39m(d)\n",
      "File \u001b[1;32m~\\anaconda3\\lib\\site-packages\\numpy\\__init__.py:311\u001b[0m, in \u001b[0;36m__getattr__\u001b[1;34m(attr)\u001b[0m\n\u001b[0;32m    308\u001b[0m     \u001b[38;5;28;01mfrom\u001b[39;00m \u001b[38;5;21;01m.\u001b[39;00m\u001b[38;5;21;01mtesting\u001b[39;00m \u001b[38;5;28;01mimport\u001b[39;00m Tester\n\u001b[0;32m    309\u001b[0m     \u001b[38;5;28;01mreturn\u001b[39;00m Tester\n\u001b[1;32m--> 311\u001b[0m \u001b[38;5;28;01mraise\u001b[39;00m \u001b[38;5;167;01mAttributeError\u001b[39;00m(\u001b[38;5;124m\"\u001b[39m\u001b[38;5;124mmodule \u001b[39m\u001b[38;5;132;01m{!r}\u001b[39;00m\u001b[38;5;124m has no attribute \u001b[39m\u001b[38;5;124m\"\u001b[39m\n\u001b[0;32m    312\u001b[0m                      \u001b[38;5;124m\"\u001b[39m\u001b[38;5;132;01m{!r}\u001b[39;00m\u001b[38;5;124m\"\u001b[39m\u001b[38;5;241m.\u001b[39mformat(\u001b[38;5;18m__name__\u001b[39m, attr))\n",
      "\u001b[1;31mAttributeError\u001b[0m: module 'numpy' has no attribute 'div'"
     ]
    }
   ],
   "source": [
    "a= np.random.rand(10,2)\n",
    "print(a)\n",
    "b=np.sqrt(np.sum(a,axis=1))\n",
    "print(b)\n",
    "c=np.div(a,axis=1)\n",
    "d=np.arctan(c**-1)\n",
    "print(d)"
   ]
  },
  {
   "cell_type": "markdown",
   "metadata": {
    "id": "D9zS4ibLZj56"
   },
   "source": [
    "### 16. Multiply a 5x3 matrix by a 3x2 matrix (real matrix product)"
   ]
  },
  {
   "cell_type": "code",
   "execution_count": 26,
   "metadata": {
    "id": "YGprtzjBZmf0"
   },
   "outputs": [
    {
     "name": "stdout",
     "output_type": "stream",
     "text": [
      "[[3 4 0]\n",
      " [0 9 4]\n",
      " [7 3 1]\n",
      " [5 9 4]\n",
      " [7 5 7]]\n",
      "[[9 0]\n",
      " [3 5]\n",
      " [8 6]]\n",
      "[[ 39  20]\n",
      " [ 59  69]\n",
      " [ 80  21]\n",
      " [104  69]\n",
      " [134  67]]\n"
     ]
    }
   ],
   "source": [
    "a=np.random.randint(10,size=(5,3))\n",
    "b=np.random.randint(10, size=(3,2))\n",
    "c=np.matmul(a,b)\n",
    "print(a)\n",
    "print(b)\n",
    "print(c)"
   ]
  },
  {
   "cell_type": "markdown",
   "metadata": {
    "id": "aQF05wGvZv0I"
   },
   "source": [
    "## Broadcasting"
   ]
  },
  {
   "cell_type": "markdown",
   "metadata": {
    "id": "aGfbP1-oZqzq"
   },
   "source": [
    "Numpy use a powerful idea called broadcasting. The best thing is that it is also simple to use. Example, we will execute the following in the cell below.\n",
    "```\n",
    "x = np.arange(4)\n",
    "print(x)\n",
    "y = x + 3\n",
    "print(y)\n",
    "```\n",
    "Did you notice how 3 got added to every element of x! This is refered to as broadcasting. The concept extends when you wish to add a vector to every row (or column) of a matrix."
   ]
  },
  {
   "cell_type": "code",
   "execution_count": null,
   "metadata": {
    "id": "ZeC8lOWsZrI7"
   },
   "outputs": [],
   "source": [
    "x = np.arange(4)\n",
    "print(x)\n",
    "y = x + 3\n",
    "print(y)"
   ]
  },
  {
   "cell_type": "markdown",
   "metadata": {
    "id": "em_C30voZ7H0"
   },
   "source": [
    "Can we demonstrate a computational time benefit of broadcasting? For this we will need to measure time. No worries, let's welcome the timeit package."
   ]
  },
  {
   "cell_type": "code",
   "execution_count": null,
   "metadata": {
    "id": "yG3VVQ2VZ7cQ"
   },
   "outputs": [],
   "source": [
    "# importing the required module\n",
    "import timeit\n",
    "\n",
    "# code snippet to be executed only once\n",
    "test_setup = \"import numpy as np\"\n",
    "\n",
    "# code snippet to be executed only once\n",
    "test_code_1 = '''\n",
    "def example_function():\n",
    "    return np.arange(1000)\n",
    "'''\n",
    "num_runs = 1000\n",
    "time_elapsed = timeit.timeit(setup=test_setup, stmt = test_code_1, number=num_runs)\n",
    "print('Time taken: ' + str(time_elapsed/num_runs))"
   ]
  },
  {
   "cell_type": "markdown",
   "metadata": {
    "id": "CZDIakVraF0R"
   },
   "source": [
    "A bottlenecks in code is loops, this holds especially for python code. Compared to languages like C/C++ , Python loops are relatively slower. One reason for this is the dynamically typed nature of Python.\n",
    "\n",
    "Python interpreter first goes line-by-line through the code, compiles the code into bytecode, which is then executed to run the program. Let's consider the code contains a section where it has to loop over a list. Being dynamically typed, Python has no idea what type of objects are present in the list (whether it's an integer, a string or a float). Further, this information is basically stored in every object itself, and Python can not know this in advance before actually going through the list. Hence, at each iteration python has to perform a bunch of checks every iteration like determining the type of variable, resolving it's scope, checking for any invalid operations etc.\n",
    "\n",
    "Contrasting this with C, arrays are allowed to be consisting of only one data type, which the compiler knows well ahead of time. This opens up possibility of many optimizations which are not possible in Python. For this reason, loops in python are often much slower than in C, and nested loops is where things can really get slow."
   ]
  },
  {
   "cell_type": "markdown",
   "metadata": {
    "id": "iQMahDMIaQgF"
   },
   "source": [
    "### 17. In the below cell, define two random vectors x and y, each of size (1000x1). Do an elementwise multiplication of these vectors to get a new vector z. Try two approaches for this: (a) writing a function which uses a loop, (b) writing a function which the \"star\" numpy operator. Print the time for approach (a) and (b). "
   ]
  },
  {
   "cell_type": "code",
   "execution_count": null,
   "metadata": {
    "id": "MKbaayVzaE8x"
   },
   "outputs": [],
   "source": []
  },
  {
   "cell_type": "markdown",
   "metadata": {
    "id": "4-lwm_mrag6f"
   },
   "source": [
    "# Bonus Question"
   ]
  },
  {
   "cell_type": "markdown",
   "metadata": {
    "id": "LtYkO8mSaSr2"
   },
   "source": [
    "### 18. Create a 2-D grid between (-10,10) in x-axis and (-10,10) in y-axis, with step size of .01. Generate a 2-D gaussian function on this grid, with mean = (0,0), and co-variance being an identity matrix. Plot the 2-D Gaussian using plot3D() function."
   ]
  },
  {
   "cell_type": "code",
   "execution_count": null,
   "metadata": {
    "id": "i4p24HCMafpd"
   },
   "outputs": [],
   "source": []
  }
 ],
 "metadata": {
  "colab": {
   "provenance": []
  },
  "kernelspec": {
   "display_name": "Python 3 (ipykernel)",
   "language": "python",
   "name": "python3"
  },
  "language_info": {
   "codemirror_mode": {
    "name": "ipython",
    "version": 3
   },
   "file_extension": ".py",
   "mimetype": "text/x-python",
   "name": "python",
   "nbconvert_exporter": "python",
   "pygments_lexer": "ipython3",
   "version": "3.10.9"
  }
 },
 "nbformat": 4,
 "nbformat_minor": 1
}
